{
 "cells": [
  {
   "cell_type": "markdown",
   "metadata": {},
   "source": [
    "# DESAFIO KKD CUP 2009\n",
    "\n",
    "* Yuri Müller Plumm Gomes\n",
    "* yurimullergomes@gmail.com"
   ]
  },
  {
   "cell_type": "markdown",
   "metadata": {},
   "source": [
    "\n",
    "\n",
    "### A tarefa aqui será classificar os três comportamentos de clientes citados acima a partir de dados do tipo customer relationship management (CRM).\n",
    "- Obs: utilizarei a versão pequena dos dados. \n"
   ]
  },
  {
   "cell_type": "markdown",
   "metadata": {},
   "source": [
    "### Importando bibliotecas e fixando algumas configurações iniciais."
   ]
  },
  {
   "cell_type": "code",
   "execution_count": 1,
   "metadata": {},
   "outputs": [
    {
     "name": "stderr",
     "output_type": "stream",
     "text": [
      "c:\\programdata\\anaconda3\\lib\\site-packages\\h5py\\__init__.py:34: FutureWarning: Conversion of the second argument of issubdtype from `float` to `np.floating` is deprecated. In future, it will be treated as `np.float64 == np.dtype(float).type`.\n",
      "  from ._conv import register_converters as _register_converters\n"
     ]
    }
   ],
   "source": [
    "import pandas as pd\n",
    "import numpy as np\n",
    "import pickle\n",
    "import matplotlib.pyplot as plt\n",
    "from scipy import stats\n",
    "import tensorflow as tf\n",
    "import seaborn as sns\n",
    "from pylab import rcParams\n",
    "from sklearn.model_selection import train_test_split\n",
    "from sklearn.utils import resample\n",
    "from sklearn.model_selection import StratifiedKFold\n",
    "from sklearn.ensemble import RandomForestClassifier\n",
    "from sklearn import preprocessing\n",
    "from sklearn.metrics import (confusion_matrix, precision_recall_curve, auc,\n",
    "                             roc_curve, recall_score, classification_report, f1_score,\n",
    "                             precision_recall_fscore_support,roc_auc_score)\n",
    "%matplotlib inline\n",
    "\n",
    "sns.set(style='whitegrid', palette='muted', font_scale=1.5)\n",
    "\n",
    "rcParams['figure.figsize'] = 14, 8\n",
    "\n",
    "RANDOM_SEED = 42\n",
    "LABELS = [\"upselling\",\"appetency\" ,\"churn\"]\n",
    "CLASS = ['NEG','POS']"
   ]
  },
  {
   "cell_type": "markdown",
   "metadata": {},
   "source": [
    "## Abrindo os arquivos com os dados:"
   ]
  },
  {
   "cell_type": "code",
   "execution_count": 2,
   "metadata": {},
   "outputs": [
    {
     "data": {
      "text/html": [
       "<div>\n",
       "<style>\n",
       "    .dataframe thead tr:only-child th {\n",
       "        text-align: right;\n",
       "    }\n",
       "\n",
       "    .dataframe thead th {\n",
       "        text-align: left;\n",
       "    }\n",
       "\n",
       "    .dataframe tbody tr th {\n",
       "        vertical-align: top;\n",
       "    }\n",
       "</style>\n",
       "<table border=\"1\" class=\"dataframe\">\n",
       "  <thead>\n",
       "    <tr style=\"text-align: right;\">\n",
       "      <th></th>\n",
       "      <th>Var1</th>\n",
       "      <th>Var2</th>\n",
       "      <th>Var3</th>\n",
       "      <th>Var4</th>\n",
       "      <th>Var5</th>\n",
       "      <th>Var6</th>\n",
       "      <th>Var7</th>\n",
       "      <th>Var8</th>\n",
       "      <th>Var9</th>\n",
       "      <th>Var10</th>\n",
       "      <th>...</th>\n",
       "      <th>Var183</th>\n",
       "      <th>Var184</th>\n",
       "      <th>Var185</th>\n",
       "      <th>Var186</th>\n",
       "      <th>Var187</th>\n",
       "      <th>Var188</th>\n",
       "      <th>Var189</th>\n",
       "      <th>Var190</th>\n",
       "      <th>Var209</th>\n",
       "      <th>Var230</th>\n",
       "    </tr>\n",
       "  </thead>\n",
       "  <tbody>\n",
       "    <tr>\n",
       "      <th>count</th>\n",
       "      <td>702.000000</td>\n",
       "      <td>1241.000000</td>\n",
       "      <td>1240.000000</td>\n",
       "      <td>1579.000000</td>\n",
       "      <td>1.487000e+03</td>\n",
       "      <td>44471.000000</td>\n",
       "      <td>44461.000000</td>\n",
       "      <td>0.0</td>\n",
       "      <td>702.000000</td>\n",
       "      <td>1.487000e+03</td>\n",
       "      <td>...</td>\n",
       "      <td>1.241000e+03</td>\n",
       "      <td>1241.000000</td>\n",
       "      <td>0.0</td>\n",
       "      <td>702.000000</td>\n",
       "      <td>702.00000</td>\n",
       "      <td>1241.000000</td>\n",
       "      <td>21022.000000</td>\n",
       "      <td>333.000000</td>\n",
       "      <td>0.0</td>\n",
       "      <td>0.0</td>\n",
       "    </tr>\n",
       "    <tr>\n",
       "      <th>mean</th>\n",
       "      <td>11.487179</td>\n",
       "      <td>0.004029</td>\n",
       "      <td>425.298387</td>\n",
       "      <td>0.125396</td>\n",
       "      <td>2.387933e+05</td>\n",
       "      <td>1326.437116</td>\n",
       "      <td>6.809496</td>\n",
       "      <td>NaN</td>\n",
       "      <td>48.145299</td>\n",
       "      <td>3.926057e+05</td>\n",
       "      <td>...</td>\n",
       "      <td>7.777380e+04</td>\n",
       "      <td>8.460919</td>\n",
       "      <td>NaN</td>\n",
       "      <td>3.299145</td>\n",
       "      <td>16.54416</td>\n",
       "      <td>167.368477</td>\n",
       "      <td>270.142137</td>\n",
       "      <td>22007.045192</td>\n",
       "      <td>NaN</td>\n",
       "      <td>NaN</td>\n",
       "    </tr>\n",
       "    <tr>\n",
       "      <th>std</th>\n",
       "      <td>40.709951</td>\n",
       "      <td>0.141933</td>\n",
       "      <td>4270.193518</td>\n",
       "      <td>1.275481</td>\n",
       "      <td>6.441259e+05</td>\n",
       "      <td>2685.693668</td>\n",
       "      <td>6.326053</td>\n",
       "      <td>NaN</td>\n",
       "      <td>154.777855</td>\n",
       "      <td>9.280896e+05</td>\n",
       "      <td>...</td>\n",
       "      <td>2.016188e+05</td>\n",
       "      <td>46.973777</td>\n",
       "      <td>NaN</td>\n",
       "      <td>8.781967</td>\n",
       "      <td>60.22303</td>\n",
       "      <td>113.980072</td>\n",
       "      <td>86.707692</td>\n",
       "      <td>29085.146490</td>\n",
       "      <td>NaN</td>\n",
       "      <td>NaN</td>\n",
       "    </tr>\n",
       "    <tr>\n",
       "      <th>min</th>\n",
       "      <td>0.000000</td>\n",
       "      <td>0.000000</td>\n",
       "      <td>0.000000</td>\n",
       "      <td>0.000000</td>\n",
       "      <td>0.000000e+00</td>\n",
       "      <td>0.000000</td>\n",
       "      <td>0.000000</td>\n",
       "      <td>NaN</td>\n",
       "      <td>0.000000</td>\n",
       "      <td>0.000000e+00</td>\n",
       "      <td>...</td>\n",
       "      <td>0.000000e+00</td>\n",
       "      <td>0.000000</td>\n",
       "      <td>NaN</td>\n",
       "      <td>0.000000</td>\n",
       "      <td>0.00000</td>\n",
       "      <td>-6.420000</td>\n",
       "      <td>6.000000</td>\n",
       "      <td>0.000000</td>\n",
       "      <td>NaN</td>\n",
       "      <td>NaN</td>\n",
       "    </tr>\n",
       "    <tr>\n",
       "      <th>25%</th>\n",
       "      <td>0.000000</td>\n",
       "      <td>0.000000</td>\n",
       "      <td>0.000000</td>\n",
       "      <td>0.000000</td>\n",
       "      <td>0.000000e+00</td>\n",
       "      <td>518.000000</td>\n",
       "      <td>0.000000</td>\n",
       "      <td>NaN</td>\n",
       "      <td>4.000000</td>\n",
       "      <td>0.000000e+00</td>\n",
       "      <td>...</td>\n",
       "      <td>0.000000e+00</td>\n",
       "      <td>0.000000</td>\n",
       "      <td>NaN</td>\n",
       "      <td>0.000000</td>\n",
       "      <td>0.00000</td>\n",
       "      <td>19.380000</td>\n",
       "      <td>204.000000</td>\n",
       "      <td>2732.670000</td>\n",
       "      <td>NaN</td>\n",
       "      <td>NaN</td>\n",
       "    </tr>\n",
       "    <tr>\n",
       "      <th>50%</th>\n",
       "      <td>0.000000</td>\n",
       "      <td>0.000000</td>\n",
       "      <td>0.000000</td>\n",
       "      <td>0.000000</td>\n",
       "      <td>0.000000e+00</td>\n",
       "      <td>861.000000</td>\n",
       "      <td>7.000000</td>\n",
       "      <td>NaN</td>\n",
       "      <td>20.000000</td>\n",
       "      <td>0.000000e+00</td>\n",
       "      <td>...</td>\n",
       "      <td>0.000000e+00</td>\n",
       "      <td>0.000000</td>\n",
       "      <td>NaN</td>\n",
       "      <td>0.000000</td>\n",
       "      <td>4.00000</td>\n",
       "      <td>197.640000</td>\n",
       "      <td>270.000000</td>\n",
       "      <td>12668.940000</td>\n",
       "      <td>NaN</td>\n",
       "      <td>NaN</td>\n",
       "    </tr>\n",
       "    <tr>\n",
       "      <th>75%</th>\n",
       "      <td>16.000000</td>\n",
       "      <td>0.000000</td>\n",
       "      <td>0.000000</td>\n",
       "      <td>0.000000</td>\n",
       "      <td>1.187425e+05</td>\n",
       "      <td>1428.000000</td>\n",
       "      <td>7.000000</td>\n",
       "      <td>NaN</td>\n",
       "      <td>46.000000</td>\n",
       "      <td>2.628630e+05</td>\n",
       "      <td>...</td>\n",
       "      <td>4.881000e+04</td>\n",
       "      <td>8.000000</td>\n",
       "      <td>NaN</td>\n",
       "      <td>6.000000</td>\n",
       "      <td>14.00000</td>\n",
       "      <td>252.960000</td>\n",
       "      <td>330.000000</td>\n",
       "      <td>29396.340000</td>\n",
       "      <td>NaN</td>\n",
       "      <td>NaN</td>\n",
       "    </tr>\n",
       "    <tr>\n",
       "      <th>max</th>\n",
       "      <td>680.000000</td>\n",
       "      <td>5.000000</td>\n",
       "      <td>130668.000000</td>\n",
       "      <td>27.000000</td>\n",
       "      <td>6.048550e+06</td>\n",
       "      <td>131761.000000</td>\n",
       "      <td>140.000000</td>\n",
       "      <td>NaN</td>\n",
       "      <td>2300.000000</td>\n",
       "      <td>1.232559e+07</td>\n",
       "      <td>...</td>\n",
       "      <td>3.048400e+06</td>\n",
       "      <td>1200.000000</td>\n",
       "      <td>NaN</td>\n",
       "      <td>102.000000</td>\n",
       "      <td>910.00000</td>\n",
       "      <td>628.620000</td>\n",
       "      <td>642.000000</td>\n",
       "      <td>230427.000000</td>\n",
       "      <td>NaN</td>\n",
       "      <td>NaN</td>\n",
       "    </tr>\n",
       "  </tbody>\n",
       "</table>\n",
       "<p>8 rows × 192 columns</p>\n",
       "</div>"
      ],
      "text/plain": [
       "             Var1         Var2           Var3         Var4          Var5  \\\n",
       "count  702.000000  1241.000000    1240.000000  1579.000000  1.487000e+03   \n",
       "mean    11.487179     0.004029     425.298387     0.125396  2.387933e+05   \n",
       "std     40.709951     0.141933    4270.193518     1.275481  6.441259e+05   \n",
       "min      0.000000     0.000000       0.000000     0.000000  0.000000e+00   \n",
       "25%      0.000000     0.000000       0.000000     0.000000  0.000000e+00   \n",
       "50%      0.000000     0.000000       0.000000     0.000000  0.000000e+00   \n",
       "75%     16.000000     0.000000       0.000000     0.000000  1.187425e+05   \n",
       "max    680.000000     5.000000  130668.000000    27.000000  6.048550e+06   \n",
       "\n",
       "                Var6          Var7  Var8         Var9         Var10   ...    \\\n",
       "count   44471.000000  44461.000000   0.0   702.000000  1.487000e+03   ...     \n",
       "mean     1326.437116      6.809496   NaN    48.145299  3.926057e+05   ...     \n",
       "std      2685.693668      6.326053   NaN   154.777855  9.280896e+05   ...     \n",
       "min         0.000000      0.000000   NaN     0.000000  0.000000e+00   ...     \n",
       "25%       518.000000      0.000000   NaN     4.000000  0.000000e+00   ...     \n",
       "50%       861.000000      7.000000   NaN    20.000000  0.000000e+00   ...     \n",
       "75%      1428.000000      7.000000   NaN    46.000000  2.628630e+05   ...     \n",
       "max    131761.000000    140.000000   NaN  2300.000000  1.232559e+07   ...     \n",
       "\n",
       "             Var183       Var184  Var185      Var186     Var187       Var188  \\\n",
       "count  1.241000e+03  1241.000000     0.0  702.000000  702.00000  1241.000000   \n",
       "mean   7.777380e+04     8.460919     NaN    3.299145   16.54416   167.368477   \n",
       "std    2.016188e+05    46.973777     NaN    8.781967   60.22303   113.980072   \n",
       "min    0.000000e+00     0.000000     NaN    0.000000    0.00000    -6.420000   \n",
       "25%    0.000000e+00     0.000000     NaN    0.000000    0.00000    19.380000   \n",
       "50%    0.000000e+00     0.000000     NaN    0.000000    4.00000   197.640000   \n",
       "75%    4.881000e+04     8.000000     NaN    6.000000   14.00000   252.960000   \n",
       "max    3.048400e+06  1200.000000     NaN  102.000000  910.00000   628.620000   \n",
       "\n",
       "             Var189         Var190  Var209  Var230  \n",
       "count  21022.000000     333.000000     0.0     0.0  \n",
       "mean     270.142137   22007.045192     NaN     NaN  \n",
       "std       86.707692   29085.146490     NaN     NaN  \n",
       "min        6.000000       0.000000     NaN     NaN  \n",
       "25%      204.000000    2732.670000     NaN     NaN  \n",
       "50%      270.000000   12668.940000     NaN     NaN  \n",
       "75%      330.000000   29396.340000     NaN     NaN  \n",
       "max      642.000000  230427.000000     NaN     NaN  \n",
       "\n",
       "[8 rows x 192 columns]"
      ]
     },
     "execution_count": 2,
     "metadata": {},
     "output_type": "execute_result"
    }
   ],
   "source": [
    "file_object = pd.read_csv('orange_small_train.data',sep = '\\t')\n",
    "y1 = pd.read_csv('orange_small_train_upselling.labels',sep = '\\n')\n",
    "y1.columns = ['upselling']\n",
    "y2 = pd.read_csv('orange_small_train_appetency.labels',sep = '\\n' )\n",
    "y2.columns =['appetency']\n",
    "y3 = pd.read_csv('orange_small_train_churn.labels',sep = '\\n')\n",
    "y3.columns = ['churn']\n",
    "\n",
    "file_object.describe()"
   ]
  },
  {
   "cell_type": "markdown",
   "metadata": {},
   "source": [
    "## Pré-processamento: Os dados contém variáveis nulas e variáveis não-numéricas. Precisamos trabalhar nesses dois aspectos antes de utilizar os dados para a classificção."
   ]
  },
  {
   "cell_type": "markdown",
   "metadata": {},
   "source": [
    "### Substituindo variáveis nulas pela média da variável:"
   ]
  },
  {
   "cell_type": "code",
   "execution_count": 3,
   "metadata": {},
   "outputs": [],
   "source": [
    "\n",
    "file_object = file_object.fillna(file_object.mean())\n"
   ]
  },
  {
   "cell_type": "markdown",
   "metadata": {},
   "source": [
    "### Retirando as variáveis não-numéricas:"
   ]
  },
  {
   "cell_type": "code",
   "execution_count": 4,
   "metadata": {},
   "outputs": [],
   "source": [
    "var_drop = []\n",
    "\n",
    "for i in range(file_object.shape[1]-40, file_object.shape[1]+1):\n",
    "    value = 0\n",
    "    value = 'Var{}'.format(i)\n",
    "    var_drop.append(value)"
   ]
  },
  {
   "cell_type": "markdown",
   "metadata": {},
   "source": [
    "### Últimos ajustes:"
   ]
  },
  {
   "cell_type": "code",
   "execution_count": 5,
   "metadata": {},
   "outputs": [],
   "source": [
    "file_object = file_object.drop(var_drop,axis=1)\n",
    "file_object = file_object.fillna(0)"
   ]
  },
  {
   "cell_type": "markdown",
   "metadata": {},
   "source": [
    "### Salvando os dados pre-processados:"
   ]
  },
  {
   "cell_type": "code",
   "execution_count": 6,
   "metadata": {},
   "outputs": [],
   "source": [
    "file_object.to_pickle(\"data_hekima.pkl\")"
   ]
  },
  {
   "cell_type": "markdown",
   "metadata": {},
   "source": [
    "### Abrindo arquivo com dados pré-processados"
   ]
  },
  {
   "cell_type": "code",
   "execution_count": 7,
   "metadata": {},
   "outputs": [],
   "source": [
    "data = pd.read_pickle(\"data_hekima.pkl\")"
   ]
  },
  {
   "cell_type": "code",
   "execution_count": 8,
   "metadata": {},
   "outputs": [
    {
     "data": {
      "text/plain": [
       "((50000, 189), (49999, 1))"
      ]
     },
     "execution_count": 8,
     "metadata": {},
     "output_type": "execute_result"
    }
   ],
   "source": [
    "data.shape,y1.shape"
   ]
  },
  {
   "cell_type": "markdown",
   "metadata": {},
   "source": [
    "### Retirando a última linha da tabela 'data' para compatibilidade entre número de variáveis e o número de eventos categorizados nos arquivos 'labels'  "
   ]
  },
  {
   "cell_type": "code",
   "execution_count": 9,
   "metadata": {},
   "outputs": [
    {
     "data": {
      "text/html": [
       "<div>\n",
       "<style>\n",
       "    .dataframe thead tr:only-child th {\n",
       "        text-align: right;\n",
       "    }\n",
       "\n",
       "    .dataframe thead th {\n",
       "        text-align: left;\n",
       "    }\n",
       "\n",
       "    .dataframe tbody tr th {\n",
       "        vertical-align: top;\n",
       "    }\n",
       "</style>\n",
       "<table border=\"1\" class=\"dataframe\">\n",
       "  <thead>\n",
       "    <tr style=\"text-align: right;\">\n",
       "      <th></th>\n",
       "      <th>Var1</th>\n",
       "      <th>Var2</th>\n",
       "      <th>Var3</th>\n",
       "      <th>Var4</th>\n",
       "      <th>Var5</th>\n",
       "      <th>Var6</th>\n",
       "      <th>Var7</th>\n",
       "      <th>Var8</th>\n",
       "      <th>Var9</th>\n",
       "      <th>Var10</th>\n",
       "      <th>...</th>\n",
       "      <th>Var180</th>\n",
       "      <th>Var181</th>\n",
       "      <th>Var182</th>\n",
       "      <th>Var183</th>\n",
       "      <th>Var184</th>\n",
       "      <th>Var185</th>\n",
       "      <th>Var186</th>\n",
       "      <th>Var187</th>\n",
       "      <th>Var188</th>\n",
       "      <th>Var189</th>\n",
       "    </tr>\n",
       "  </thead>\n",
       "  <tbody>\n",
       "    <tr>\n",
       "      <th>0</th>\n",
       "      <td>11.487179</td>\n",
       "      <td>0.004029</td>\n",
       "      <td>425.298387</td>\n",
       "      <td>0.125396</td>\n",
       "      <td>238793.32885</td>\n",
       "      <td>1526.000000</td>\n",
       "      <td>7.0</td>\n",
       "      <td>0.0</td>\n",
       "      <td>48.145299</td>\n",
       "      <td>392605.656355</td>\n",
       "      <td>...</td>\n",
       "      <td>3.776755e+06</td>\n",
       "      <td>0.0</td>\n",
       "      <td>1.416638e+06</td>\n",
       "      <td>77773.795326</td>\n",
       "      <td>8.460919</td>\n",
       "      <td>0.0</td>\n",
       "      <td>3.299145</td>\n",
       "      <td>16.54416</td>\n",
       "      <td>167.368477</td>\n",
       "      <td>462.000000</td>\n",
       "    </tr>\n",
       "    <tr>\n",
       "      <th>1</th>\n",
       "      <td>11.487179</td>\n",
       "      <td>0.004029</td>\n",
       "      <td>425.298387</td>\n",
       "      <td>0.125396</td>\n",
       "      <td>238793.32885</td>\n",
       "      <td>525.000000</td>\n",
       "      <td>0.0</td>\n",
       "      <td>0.0</td>\n",
       "      <td>48.145299</td>\n",
       "      <td>392605.656355</td>\n",
       "      <td>...</td>\n",
       "      <td>3.776755e+06</td>\n",
       "      <td>0.0</td>\n",
       "      <td>1.416638e+06</td>\n",
       "      <td>77773.795326</td>\n",
       "      <td>8.460919</td>\n",
       "      <td>0.0</td>\n",
       "      <td>3.299145</td>\n",
       "      <td>16.54416</td>\n",
       "      <td>167.368477</td>\n",
       "      <td>270.142137</td>\n",
       "    </tr>\n",
       "    <tr>\n",
       "      <th>2</th>\n",
       "      <td>11.487179</td>\n",
       "      <td>0.004029</td>\n",
       "      <td>425.298387</td>\n",
       "      <td>0.125396</td>\n",
       "      <td>238793.32885</td>\n",
       "      <td>5236.000000</td>\n",
       "      <td>7.0</td>\n",
       "      <td>0.0</td>\n",
       "      <td>48.145299</td>\n",
       "      <td>392605.656355</td>\n",
       "      <td>...</td>\n",
       "      <td>3.776755e+06</td>\n",
       "      <td>0.0</td>\n",
       "      <td>1.416638e+06</td>\n",
       "      <td>77773.795326</td>\n",
       "      <td>8.460919</td>\n",
       "      <td>0.0</td>\n",
       "      <td>3.299145</td>\n",
       "      <td>16.54416</td>\n",
       "      <td>167.368477</td>\n",
       "      <td>270.142137</td>\n",
       "    </tr>\n",
       "    <tr>\n",
       "      <th>3</th>\n",
       "      <td>11.487179</td>\n",
       "      <td>0.004029</td>\n",
       "      <td>425.298387</td>\n",
       "      <td>0.125396</td>\n",
       "      <td>238793.32885</td>\n",
       "      <td>1326.437116</td>\n",
       "      <td>0.0</td>\n",
       "      <td>0.0</td>\n",
       "      <td>48.145299</td>\n",
       "      <td>392605.656355</td>\n",
       "      <td>...</td>\n",
       "      <td>3.776755e+06</td>\n",
       "      <td>0.0</td>\n",
       "      <td>1.416638e+06</td>\n",
       "      <td>77773.795326</td>\n",
       "      <td>8.460919</td>\n",
       "      <td>0.0</td>\n",
       "      <td>3.299145</td>\n",
       "      <td>16.54416</td>\n",
       "      <td>167.368477</td>\n",
       "      <td>270.142137</td>\n",
       "    </tr>\n",
       "    <tr>\n",
       "      <th>4</th>\n",
       "      <td>11.487179</td>\n",
       "      <td>0.004029</td>\n",
       "      <td>425.298387</td>\n",
       "      <td>0.125396</td>\n",
       "      <td>238793.32885</td>\n",
       "      <td>1029.000000</td>\n",
       "      <td>7.0</td>\n",
       "      <td>0.0</td>\n",
       "      <td>48.145299</td>\n",
       "      <td>392605.656355</td>\n",
       "      <td>...</td>\n",
       "      <td>3.776755e+06</td>\n",
       "      <td>0.0</td>\n",
       "      <td>1.416638e+06</td>\n",
       "      <td>77773.795326</td>\n",
       "      <td>8.460919</td>\n",
       "      <td>0.0</td>\n",
       "      <td>3.299145</td>\n",
       "      <td>16.54416</td>\n",
       "      <td>167.368477</td>\n",
       "      <td>270.142137</td>\n",
       "    </tr>\n",
       "  </tbody>\n",
       "</table>\n",
       "<p>5 rows × 189 columns</p>\n",
       "</div>"
      ],
      "text/plain": [
       "        Var1      Var2        Var3      Var4          Var5         Var6  Var7  \\\n",
       "0  11.487179  0.004029  425.298387  0.125396  238793.32885  1526.000000   7.0   \n",
       "1  11.487179  0.004029  425.298387  0.125396  238793.32885   525.000000   0.0   \n",
       "2  11.487179  0.004029  425.298387  0.125396  238793.32885  5236.000000   7.0   \n",
       "3  11.487179  0.004029  425.298387  0.125396  238793.32885  1326.437116   0.0   \n",
       "4  11.487179  0.004029  425.298387  0.125396  238793.32885  1029.000000   7.0   \n",
       "\n",
       "   Var8       Var9          Var10     ...            Var180  Var181  \\\n",
       "0   0.0  48.145299  392605.656355     ...      3.776755e+06     0.0   \n",
       "1   0.0  48.145299  392605.656355     ...      3.776755e+06     0.0   \n",
       "2   0.0  48.145299  392605.656355     ...      3.776755e+06     0.0   \n",
       "3   0.0  48.145299  392605.656355     ...      3.776755e+06     0.0   \n",
       "4   0.0  48.145299  392605.656355     ...      3.776755e+06     0.0   \n",
       "\n",
       "         Var182        Var183    Var184  Var185    Var186    Var187  \\\n",
       "0  1.416638e+06  77773.795326  8.460919     0.0  3.299145  16.54416   \n",
       "1  1.416638e+06  77773.795326  8.460919     0.0  3.299145  16.54416   \n",
       "2  1.416638e+06  77773.795326  8.460919     0.0  3.299145  16.54416   \n",
       "3  1.416638e+06  77773.795326  8.460919     0.0  3.299145  16.54416   \n",
       "4  1.416638e+06  77773.795326  8.460919     0.0  3.299145  16.54416   \n",
       "\n",
       "       Var188      Var189  \n",
       "0  167.368477  462.000000  \n",
       "1  167.368477  270.142137  \n",
       "2  167.368477  270.142137  \n",
       "3  167.368477  270.142137  \n",
       "4  167.368477  270.142137  \n",
       "\n",
       "[5 rows x 189 columns]"
      ]
     },
     "execution_count": 9,
     "metadata": {},
     "output_type": "execute_result"
    }
   ],
   "source": [
    "data = data.drop(49999)\n",
    "data.head()"
   ]
  },
  {
   "cell_type": "markdown",
   "metadata": {},
   "source": [
    "### Transladando os valores -1,+1 para 0, 1 e concatenando todos os dados em uma única tabela:"
   ]
  },
  {
   "cell_type": "code",
   "execution_count": 10,
   "metadata": {},
   "outputs": [
    {
     "data": {
      "text/html": [
       "<div>\n",
       "<style>\n",
       "    .dataframe thead tr:only-child th {\n",
       "        text-align: right;\n",
       "    }\n",
       "\n",
       "    .dataframe thead th {\n",
       "        text-align: left;\n",
       "    }\n",
       "\n",
       "    .dataframe tbody tr th {\n",
       "        vertical-align: top;\n",
       "    }\n",
       "</style>\n",
       "<table border=\"1\" class=\"dataframe\">\n",
       "  <thead>\n",
       "    <tr style=\"text-align: right;\">\n",
       "      <th></th>\n",
       "      <th>upselling</th>\n",
       "      <th>appetency</th>\n",
       "      <th>churn</th>\n",
       "    </tr>\n",
       "  </thead>\n",
       "  <tbody>\n",
       "    <tr>\n",
       "      <th>0</th>\n",
       "      <td>0.0</td>\n",
       "      <td>0.0</td>\n",
       "      <td>1.0</td>\n",
       "    </tr>\n",
       "    <tr>\n",
       "      <th>1</th>\n",
       "      <td>0.0</td>\n",
       "      <td>0.0</td>\n",
       "      <td>0.0</td>\n",
       "    </tr>\n",
       "    <tr>\n",
       "      <th>2</th>\n",
       "      <td>0.0</td>\n",
       "      <td>0.0</td>\n",
       "      <td>0.0</td>\n",
       "    </tr>\n",
       "    <tr>\n",
       "      <th>3</th>\n",
       "      <td>0.0</td>\n",
       "      <td>0.0</td>\n",
       "      <td>0.0</td>\n",
       "    </tr>\n",
       "    <tr>\n",
       "      <th>4</th>\n",
       "      <td>0.0</td>\n",
       "      <td>0.0</td>\n",
       "      <td>0.0</td>\n",
       "    </tr>\n",
       "  </tbody>\n",
       "</table>\n",
       "</div>"
      ],
      "text/plain": [
       "   upselling  appetency  churn\n",
       "0        0.0        0.0    1.0\n",
       "1        0.0        0.0    0.0\n",
       "2        0.0        0.0    0.0\n",
       "3        0.0        0.0    0.0\n",
       "4        0.0        0.0    0.0"
      ]
     },
     "execution_count": 10,
     "metadata": {},
     "output_type": "execute_result"
    }
   ],
   "source": [
    "y1 = (y1+1)/2 #colocando o label entre 0 e 1\n",
    "y2 = (y2+1)/2 #colocando o label entre 0 e 1\n",
    "y3 = (y3+1)/2 #colocando o label entre 0 e 1\n",
    "yy = pd.concat([y1,y2,y3], axis=1)\n",
    "data_f = pd.concat([data,yy],axis=1)\n",
    "yy.head()"
   ]
  },
  {
   "cell_type": "code",
   "execution_count": 11,
   "metadata": {},
   "outputs": [
    {
     "data": {
      "text/plain": [
       "['upselling', 'appetency', 'churn']"
      ]
     },
     "execution_count": 11,
     "metadata": {},
     "output_type": "execute_result"
    }
   ],
   "source": [
    "LABELS"
   ]
  },
  {
   "cell_type": "code",
   "execution_count": 12,
   "metadata": {},
   "outputs": [
    {
     "name": "stderr",
     "output_type": "stream",
     "text": [
      "c:\\programdata\\anaconda3\\lib\\site-packages\\matplotlib\\axes\\_axes.py:545: UserWarning: No labelled objects found. Use label='...' kwarg on individual plots.\n",
      "  warnings.warn(\"No labelled objects found. \"\n"
     ]
    },
    {
     "data": {
      "image/png": "[encoded data removed]",
      "text/plain": [
       "<matplotlib.figure.Figure at 0x20d2cd04278>"
      ]
     },
     "metadata": {},
     "output_type": "display_data"
    }
   ],
   "source": [
    "fig = plt.figure(figsize=(30, 10))\n",
    "\n",
    "\n",
    "plt.subplot(131)\n",
    "ax0 = yy.upselling.hist(bins=4)\n",
    "\n",
    "ax0.set_ylabel('{}'.format(LABELS[0]))\n",
    "plt.subplot(132)\n",
    "ax1 = yy.appetency.hist(bins=4)\n",
    "\n",
    "ax1.set_ylabel('{}'.format(LABELS[1]))\n",
    "plt.subplot(133)\n",
    "ax2= yy.churn.hist(bins=4)\n",
    "\n",
    "ax2.set_ylabel('{}'.format(LABELS[2]))\n",
    "plt.legend()"
   ]
  },
  {
   "cell_type": "code",
   "execution_count": 13,
   "metadata": {},
   "outputs": [
    {
     "name": "stdout",
     "output_type": "stream",
     "text": [
      "proporção p/ Up-selling - Negativo: 0.9263585271705435 , Positivo: 0.07364147282945659\n",
      "proporção p/ appetency - Negativo: 0.9821996439928798 , Positivo: 0.01780035600712014\n",
      "proporção p/ churn - Negativo: 0.9265585311706234 , Positivo: 0.07344146882937659\n"
     ]
    }
   ],
   "source": [
    "print('proporção p/ Up-selling - Negativo: {} , Positivo: {}'.format(yy.upselling[yy.upselling==0].count()/(yy.upselling[yy.upselling==0].count()+yy.upselling[yy.upselling==1].count()),yy.upselling[yy.upselling==1].count()/(yy.upselling[yy.upselling==0].count()+yy.upselling[yy.upselling==1].count())))\n",
    "print('proporção p/ appetency - Negativo: {} , Positivo: {}'.format(yy.appetency[yy.appetency==0].count()/(yy.appetency[yy.appetency==0].count()+yy.appetency[yy.appetency==1].count()),yy.appetency[yy.appetency==1].count()/(yy.appetency[yy.appetency==0].count()+yy.appetency[yy.appetency==1].count())))\n",
    "print('proporção p/ churn - Negativo: {} , Positivo: {}'.format(yy.churn[yy.churn==0].count()/(yy.churn[yy.churn==0].count()+yy.churn[yy.churn==1].count()),yy.churn[yy.churn==1].count()/(yy.churn[yy.churn==0].count()+yy.churn[yy.churn==1].count())))"
   ]
  },
  {
   "cell_type": "markdown",
   "metadata": {},
   "source": [
    "## Obs: Dados muito desbalanceados! Para tentar contornar este problema utilizarei o método de up-sampling.\n",
    "\n",
    "* Up-sampling é o processo de duplicação aleatória de observações da classe minoritária, a fim de reforçar o seu sinal. Existem várias maneiras para fazê-lo, mas a maneira mais comum é simplesmente resamplear por substituição."
   ]
  },
  {
   "cell_type": "code",
   "execution_count": 14,
   "metadata": {},
   "outputs": [
    {
     "data": {
      "text/html": [
       "<div>\n",
       "<style>\n",
       "    .dataframe thead tr:only-child th {\n",
       "        text-align: right;\n",
       "    }\n",
       "\n",
       "    .dataframe thead th {\n",
       "        text-align: left;\n",
       "    }\n",
       "\n",
       "    .dataframe tbody tr th {\n",
       "        vertical-align: top;\n",
       "    }\n",
       "</style>\n",
       "<table border=\"1\" class=\"dataframe\">\n",
       "  <thead>\n",
       "    <tr style=\"text-align: right;\">\n",
       "      <th></th>\n",
       "      <th>Var1</th>\n",
       "      <th>Var2</th>\n",
       "      <th>Var3</th>\n",
       "      <th>Var4</th>\n",
       "      <th>Var5</th>\n",
       "      <th>Var6</th>\n",
       "      <th>Var7</th>\n",
       "      <th>Var8</th>\n",
       "      <th>Var9</th>\n",
       "      <th>Var10</th>\n",
       "      <th>...</th>\n",
       "      <th>Var183</th>\n",
       "      <th>Var184</th>\n",
       "      <th>Var185</th>\n",
       "      <th>Var186</th>\n",
       "      <th>Var187</th>\n",
       "      <th>Var188</th>\n",
       "      <th>Var189</th>\n",
       "      <th>upselling</th>\n",
       "      <th>appetency</th>\n",
       "      <th>churn</th>\n",
       "    </tr>\n",
       "  </thead>\n",
       "  <tbody>\n",
       "    <tr>\n",
       "      <th>0</th>\n",
       "      <td>11.487179</td>\n",
       "      <td>0.004029</td>\n",
       "      <td>425.298387</td>\n",
       "      <td>0.125396</td>\n",
       "      <td>238793.32885</td>\n",
       "      <td>1526.000000</td>\n",
       "      <td>7.0</td>\n",
       "      <td>0.0</td>\n",
       "      <td>48.145299</td>\n",
       "      <td>392605.656355</td>\n",
       "      <td>...</td>\n",
       "      <td>77773.795326</td>\n",
       "      <td>8.460919</td>\n",
       "      <td>0.0</td>\n",
       "      <td>3.299145</td>\n",
       "      <td>16.54416</td>\n",
       "      <td>167.368477</td>\n",
       "      <td>462.000000</td>\n",
       "      <td>0.0</td>\n",
       "      <td>0.0</td>\n",
       "      <td>1.0</td>\n",
       "    </tr>\n",
       "    <tr>\n",
       "      <th>1</th>\n",
       "      <td>11.487179</td>\n",
       "      <td>0.004029</td>\n",
       "      <td>425.298387</td>\n",
       "      <td>0.125396</td>\n",
       "      <td>238793.32885</td>\n",
       "      <td>525.000000</td>\n",
       "      <td>0.0</td>\n",
       "      <td>0.0</td>\n",
       "      <td>48.145299</td>\n",
       "      <td>392605.656355</td>\n",
       "      <td>...</td>\n",
       "      <td>77773.795326</td>\n",
       "      <td>8.460919</td>\n",
       "      <td>0.0</td>\n",
       "      <td>3.299145</td>\n",
       "      <td>16.54416</td>\n",
       "      <td>167.368477</td>\n",
       "      <td>270.142137</td>\n",
       "      <td>0.0</td>\n",
       "      <td>0.0</td>\n",
       "      <td>0.0</td>\n",
       "    </tr>\n",
       "    <tr>\n",
       "      <th>2</th>\n",
       "      <td>11.487179</td>\n",
       "      <td>0.004029</td>\n",
       "      <td>425.298387</td>\n",
       "      <td>0.125396</td>\n",
       "      <td>238793.32885</td>\n",
       "      <td>5236.000000</td>\n",
       "      <td>7.0</td>\n",
       "      <td>0.0</td>\n",
       "      <td>48.145299</td>\n",
       "      <td>392605.656355</td>\n",
       "      <td>...</td>\n",
       "      <td>77773.795326</td>\n",
       "      <td>8.460919</td>\n",
       "      <td>0.0</td>\n",
       "      <td>3.299145</td>\n",
       "      <td>16.54416</td>\n",
       "      <td>167.368477</td>\n",
       "      <td>270.142137</td>\n",
       "      <td>0.0</td>\n",
       "      <td>0.0</td>\n",
       "      <td>0.0</td>\n",
       "    </tr>\n",
       "    <tr>\n",
       "      <th>3</th>\n",
       "      <td>11.487179</td>\n",
       "      <td>0.004029</td>\n",
       "      <td>425.298387</td>\n",
       "      <td>0.125396</td>\n",
       "      <td>238793.32885</td>\n",
       "      <td>1326.437116</td>\n",
       "      <td>0.0</td>\n",
       "      <td>0.0</td>\n",
       "      <td>48.145299</td>\n",
       "      <td>392605.656355</td>\n",
       "      <td>...</td>\n",
       "      <td>77773.795326</td>\n",
       "      <td>8.460919</td>\n",
       "      <td>0.0</td>\n",
       "      <td>3.299145</td>\n",
       "      <td>16.54416</td>\n",
       "      <td>167.368477</td>\n",
       "      <td>270.142137</td>\n",
       "      <td>0.0</td>\n",
       "      <td>0.0</td>\n",
       "      <td>0.0</td>\n",
       "    </tr>\n",
       "    <tr>\n",
       "      <th>4</th>\n",
       "      <td>11.487179</td>\n",
       "      <td>0.004029</td>\n",
       "      <td>425.298387</td>\n",
       "      <td>0.125396</td>\n",
       "      <td>238793.32885</td>\n",
       "      <td>1029.000000</td>\n",
       "      <td>7.0</td>\n",
       "      <td>0.0</td>\n",
       "      <td>48.145299</td>\n",
       "      <td>392605.656355</td>\n",
       "      <td>...</td>\n",
       "      <td>77773.795326</td>\n",
       "      <td>8.460919</td>\n",
       "      <td>0.0</td>\n",
       "      <td>3.299145</td>\n",
       "      <td>16.54416</td>\n",
       "      <td>167.368477</td>\n",
       "      <td>270.142137</td>\n",
       "      <td>0.0</td>\n",
       "      <td>0.0</td>\n",
       "      <td>0.0</td>\n",
       "    </tr>\n",
       "  </tbody>\n",
       "</table>\n",
       "<p>5 rows × 192 columns</p>\n",
       "</div>"
      ],
      "text/plain": [
       "        Var1      Var2        Var3      Var4          Var5         Var6  Var7  \\\n",
       "0  11.487179  0.004029  425.298387  0.125396  238793.32885  1526.000000   7.0   \n",
       "1  11.487179  0.004029  425.298387  0.125396  238793.32885   525.000000   0.0   \n",
       "2  11.487179  0.004029  425.298387  0.125396  238793.32885  5236.000000   7.0   \n",
       "3  11.487179  0.004029  425.298387  0.125396  238793.32885  1326.437116   0.0   \n",
       "4  11.487179  0.004029  425.298387  0.125396  238793.32885  1029.000000   7.0   \n",
       "\n",
       "   Var8       Var9          Var10  ...          Var183    Var184  Var185  \\\n",
       "0   0.0  48.145299  392605.656355  ...    77773.795326  8.460919     0.0   \n",
       "1   0.0  48.145299  392605.656355  ...    77773.795326  8.460919     0.0   \n",
       "2   0.0  48.145299  392605.656355  ...    77773.795326  8.460919     0.0   \n",
       "3   0.0  48.145299  392605.656355  ...    77773.795326  8.460919     0.0   \n",
       "4   0.0  48.145299  392605.656355  ...    77773.795326  8.460919     0.0   \n",
       "\n",
       "     Var186    Var187      Var188      Var189  upselling  appetency  churn  \n",
       "0  3.299145  16.54416  167.368477  462.000000        0.0        0.0    1.0  \n",
       "1  3.299145  16.54416  167.368477  270.142137        0.0        0.0    0.0  \n",
       "2  3.299145  16.54416  167.368477  270.142137        0.0        0.0    0.0  \n",
       "3  3.299145  16.54416  167.368477  270.142137        0.0        0.0    0.0  \n",
       "4  3.299145  16.54416  167.368477  270.142137        0.0        0.0    0.0  \n",
       "\n",
       "[5 rows x 192 columns]"
      ]
     },
     "execution_count": 14,
     "metadata": {},
     "output_type": "execute_result"
    }
   ],
   "source": [
    "data_f.head()"
   ]
  },
  {
   "cell_type": "code",
   "execution_count": 15,
   "metadata": {},
   "outputs": [
    {
     "data": {
      "text/plain": [
       "['upselling', 'appetency', 'churn']"
      ]
     },
     "execution_count": 15,
     "metadata": {},
     "output_type": "execute_result"
    }
   ],
   "source": [
    "LABELS"
   ]
  },
  {
   "cell_type": "markdown",
   "metadata": {},
   "source": [
    "### Existem três valores-alvo a serem previstos. \n",
    "* ``'upselling': propensão para comprar upgrades ou adicionais quando apresentados``\n",
    "* ``'appetency': a tendência de usar novos produtos e serviços``\n",
    "* `` 'churn': o cancelamento da conta ``\n",
    "\n",
    "Começaremos pelo 'upselling':"
   ]
  },
  {
   "cell_type": "markdown",
   "metadata": {},
   "source": [
    "## Up-selling:\n",
    "\n",
    "### Seguiremos os seguintes passos:\n",
    "* Prepararemos os dados, retirando as variáveis indesejáveis;\n",
    "* Aplicaremos o 'up-sampling' na parte dos dados subrepresentada;\n",
    "* Dividiremos nossos dados em dados de treino e teste\n",
    "* Treinaremos o classificador \"RandomForestClassifier\" com os dados;\n",
    "* Calcularemos o valor da AUC utilizando o método de k-fold com k = 5;\n",
    "* Mostraremos a matriz de confusão do classificador (comum e normalizada);"
   ]
  },
  {
   "cell_type": "code",
   "execution_count": 16,
   "metadata": {},
   "outputs": [],
   "source": [
    "data_final = data_f.drop(['appetency','churn'],axis=1)\n",
    "df_maj = data_final[data_final.upselling==0]\n",
    "df_min = data_final[data_final.upselling==1]\n",
    "df_maj.shape,df_min.shape \n",
    "# Upsample minority class\n",
    "df_min_upsampled = resample(df_min, \n",
    "                                replace=True,     # sample with replacement\n",
    "                                 n_samples=df_maj.shape[0],    # to match majority class\n",
    "                                 random_state=RANDOM_SEED) # reproducible results\n",
    " \n",
    "# Combine majority class with upsampled minority class\n",
    "df_upsampled = pd.concat([df_maj, df_min_upsampled])\n",
    "df_X = df_upsampled.drop(['upselling'],axis=1)\n",
    "df_y = df_upsampled['upselling']\n",
    "\n",
    "X_train, X_test, y_train, y_test = train_test_split(df_X, df_y, test_size=0.2, random_state=RANDOM_SEED)\n",
    "X_train = X_train.values\n",
    "X_test = X_test.values\n",
    "y_train = y_train.values\n",
    "y_test = y_test.values\n",
    "\n",
    "\n",
    "\n",
    "X_train = preprocessing.scale(X_train)\n",
    "X_test = preprocessing.scale(X_test)\n",
    "\n",
    "\n",
    "rf = RandomForestClassifier(n_estimators = 500, max_features ='sqrt',random_state = RANDOM_SEED,class_weight='balanced')\n",
    "\n",
    "\n",
    "rf.fit(X_train, y_train);\n",
    "\n",
    "\n",
    "predictions = rf.predict(X_test)\n",
    "\n",
    "\n"
   ]
  },
  {
   "cell_type": "markdown",
   "metadata": {},
   "source": [
    "### Visualizando a matriz de confusão para o classificador:"
   ]
  },
  {
   "cell_type": "code",
   "execution_count": 17,
   "metadata": {},
   "outputs": [
    {
     "data": {
      "image/png": "[encoded data removed]",
      "text/plain": [
       "<matplotlib.figure.Figure at 0x20d2d5d2550>"
      ]
     },
     "metadata": {},
     "output_type": "display_data"
    }
   ],
   "source": [
    "\n",
    "conf_matrix = confusion_matrix(y_test, predictions)\n",
    "plt.figure(figsize=(4, 4))\n",
    "sns.heatmap(conf_matrix,  annot=True,xticklabels=['Neg','pos'], yticklabels=['Neg','Pos'],fmt=\"d\")\n",
    "plt.title(\"Confusion matrix\")\n",
    "plt.ylabel('True class')\n",
    "plt.xlabel('Predicted class')\n",
    "plt.show()"
   ]
  },
  {
   "cell_type": "markdown",
   "metadata": {},
   "source": [
    "### Visualizando a matriz de confusão normalizada para o classificador:"
   ]
  },
  {
   "cell_type": "code",
   "execution_count": 18,
   "metadata": {},
   "outputs": [
    {
     "data": {
      "image/png": "[encoded data removed]",
      "text/plain": [
       "<matplotlib.figure.Figure at 0x20d2cc455c0>"
      ]
     },
     "metadata": {},
     "output_type": "display_data"
    }
   ],
   "source": [
    "lista = y_test\n",
    "y_y =pd.DataFrame({'y':lista})\n",
    "y_test_legit = y_y.y.value_counts()[0]\n",
    "y_test_fraud = y_y.y.value_counts()[1]\n",
    "cfn_matrix = confusion_matrix(y_test,predictions)\n",
    "cfn_norm_matrix = np.array([[1.0 / y_test_legit,1.0/y_test_legit],[1.0/y_test_fraud,1.0/y_test_fraud]])\n",
    "norm_cfn_matrix = cfn_matrix * cfn_norm_matrix\n",
    "\n",
    "plt.figure(figsize=(4, 4))\n",
    "sns.heatmap(norm_cfn_matrix, annot=True,xticklabels=['Neg','pos'], yticklabels=['Neg','Pos'])\n",
    "plt.title('Normalized Confusion Matrix')\n",
    "plt.ylabel('True Classes')\n",
    "plt.xlabel('Predicted Classes')\n",
    "plt.show()"
   ]
  },
  {
   "cell_type": "code",
   "execution_count": 19,
   "metadata": {
    "scrolled": true
   },
   "outputs": [
    {
     "name": "stdout",
     "output_type": "stream",
     "text": [
      "             precision    recall  f1-score   support\n",
      "\n",
      "        0.0       0.77      1.00      0.87      9302\n",
      "        1.0       1.00      0.70      0.83      9225\n",
      "\n",
      "avg / total       0.89      0.85      0.85     18527\n",
      "\n"
     ]
    }
   ],
   "source": [
    "print(classification_report(y_test,predictions))"
   ]
  },
  {
   "cell_type": "markdown",
   "metadata": {},
   "source": [
    "### Calculando a AUC para o classificador - 'upselling' :\n",
    "* aplicando o método k-fold com k=5."
   ]
  },
  {
   "cell_type": "code",
   "execution_count": 20,
   "metadata": {},
   "outputs": [
    {
     "name": "stdout",
     "output_type": "stream",
     "text": [
      "0%\n",
      "20%\n",
      "40%\n",
      "60%\n",
      "80%\n",
      "AUC: 0.8+-0.05\n"
     ]
    }
   ],
   "source": [
    "x = df_X.loc[:]\n",
    "y = df_y.loc[:]\n",
    "\n",
    "cv = StratifiedKFold(n_splits=5,shuffle=True)\n",
    "i =0\n",
    "aucs1 = []\n",
    "for train,test in cv.split(x,y):\n",
    "    print('{}%'.format(i*20))\n",
    "    X_train = x.iloc[train]\n",
    "    X_test = x.iloc[test]\n",
    "    y_train = y.iloc[train]\n",
    "    y_test = y.iloc[test]\n",
    "    \n",
    "    X_train = preprocessing.scale(X_train)\n",
    "    X_test = preprocessing.scale(X_test)\n",
    "    \n",
    "    pred = rf.fit(X_train,y_train).predict(X_test)\n",
    "    aucs1.append(roc_auc_score(y_test, pred))\n",
    "    i=i+1\n",
    "\n",
    "AUC1 = '{}+-{}'.format(round(np.average(aucs1), 2),round(np.std(aucs1),2))\n",
    "print('AUC:', AUC1 )\n"
   ]
  },
  {
   "cell_type": "markdown",
   "metadata": {},
   "source": [
    "### AUC : 0.80 +-0.05"
   ]
  },
  {
   "cell_type": "markdown",
   "metadata": {},
   "source": [
    "# ----------------------------------------------------------------------------------------------------------"
   ]
  },
  {
   "cell_type": "markdown",
   "metadata": {},
   "source": [
    "## 'Appetency':\n",
    "### Da mesma forma, seguiremos os seguintes passos:\n",
    "* Prepararemos os dados, retirando as variáveis indesejáveis;\n",
    "* Aplicaremos o 'up-sampling' na parte dos dados subrepresentada;\n",
    "* Dividiremos nossos dados em dados de treino e teste\n",
    "* Treinaremos o classificador \"RandomForestClassifier\" com os dados;\n",
    "* Calcularemos o valor da AUC utilizando o método de k-fold com k = 5;\n",
    "* Mostraremos a matriz de confusão do classificador (comum e normalizada);\n",
    "\n"
   ]
  },
  {
   "cell_type": "code",
   "execution_count": 26,
   "metadata": {},
   "outputs": [],
   "source": [
    "data_final = data_f.drop(['upselling','churn'],axis=1)\n",
    "df_maj = data_final[data_final.appetency==0]\n",
    "df_min = data_final[data_final.appetency==1]\n",
    "\n",
    "# Upsample minority class\n",
    "df_min_upsampled = resample(df_min, \n",
    "                                replace=True,     # sample with replacement\n",
    "                                 n_samples=df_maj.shape[0],    # to match majority class\n",
    "                                 random_state=RANDOM_SEED) # reproducible results\n",
    " \n",
    "# Combine majority class with upsampled minority class\n",
    "df_upsampled = pd.concat([df_maj, df_min_upsampled])\n",
    "df_X = df_upsampled.drop(['appetency'],axis=1)\n",
    "df_y = df_upsampled['appetency']\n",
    "\n",
    "\n",
    "X_train, X_test, y_train, y_test = train_test_split(df_X,df_y ,test_size=0.2, random_state=RANDOM_SEED)\n",
    "X_train = X_train.values\n",
    "X_test = X_test.values\n",
    "y_train = y_train\n",
    "y_test = y_test\n",
    "\n",
    "X_train = preprocessing.scale(X_train)\n",
    "X_test = preprocessing.scale(X_test)"
   ]
  },
  {
   "cell_type": "code",
   "execution_count": 27,
   "metadata": {},
   "outputs": [],
   "source": [
    "rf = RandomForestClassifier(n_estimators = 500, max_features ='sqrt',random_state = RANDOM_SEED,class_weight='balanced')\n",
    "\n",
    "\n",
    "rf.fit(X_train, y_train);\n",
    "\n",
    "predictions = rf.predict(X_test)"
   ]
  },
  {
   "cell_type": "markdown",
   "metadata": {},
   "source": [
    "### Visualizando a matriz de confusão para o classificador:"
   ]
  },
  {
   "cell_type": "code",
   "execution_count": 28,
   "metadata": {},
   "outputs": [
    {
     "data": {
      "image/png": "[encoded data removed]",
      "text/plain": [
       "<matplotlib.figure.Figure at 0x20d2cc968d0>"
      ]
     },
     "metadata": {},
     "output_type": "display_data"
    }
   ],
   "source": [
    "\n",
    "conf_matrix = confusion_matrix(y_test, predictions)\n",
    "plt.figure(figsize=(4, 4))\n",
    "sns.heatmap(conf_matrix,  annot=True,xticklabels=['Neg','pos'], yticklabels=['Neg','Pos'],fmt=\"d\")\n",
    "plt.title(\"Confusion matrix\")\n",
    "plt.ylabel('True class')\n",
    "plt.xlabel('Predicted class')\n",
    "plt.show()"
   ]
  },
  {
   "cell_type": "markdown",
   "metadata": {},
   "source": [
    "### Visualizando a matriz de confusão normalizada para o classificador:"
   ]
  },
  {
   "cell_type": "code",
   "execution_count": 29,
   "metadata": {},
   "outputs": [
    {
     "data": {
      "image/png": "[encoded data removed]",
      "text/plain": [
       "<matplotlib.figure.Figure at 0x20d32ce4048>"
      ]
     },
     "metadata": {},
     "output_type": "display_data"
    }
   ],
   "source": [
    "lista = y_test.values\n",
    "y_y =pd.DataFrame({'y':lista})\n",
    "y_test_legit = y_y.y.value_counts()[0]\n",
    "y_test_fraud = y_y.y.value_counts()[1]\n",
    "cfn_matrix = confusion_matrix(y_test,predictions)\n",
    "cfn_norm_matrix = np.array([[1.0 / y_test_legit,1.0/y_test_legit],[1.0/y_test_fraud,1.0/y_test_fraud]])\n",
    "norm_cfn_matrix = cfn_matrix * cfn_norm_matrix\n",
    "\n",
    "plt.figure(figsize=(4, 4))\n",
    "sns.heatmap(norm_cfn_matrix, annot=True,xticklabels=['Neg','pos'], yticklabels=['Neg','Pos'])\n",
    "plt.title('Normalized Confusion Matrix')\n",
    "plt.ylabel('True Classes')\n",
    "plt.xlabel('Predicted Classes')\n",
    "plt.show()"
   ]
  },
  {
   "cell_type": "code",
   "execution_count": 30,
   "metadata": {},
   "outputs": [
    {
     "name": "stdout",
     "output_type": "stream",
     "text": [
      "             precision    recall  f1-score   support\n",
      "\n",
      "        0.0       0.59      1.00      0.74      9871\n",
      "        1.0       1.00      0.29      0.45      9773\n",
      "\n",
      "avg / total       0.79      0.65      0.59     19644\n",
      "\n"
     ]
    }
   ],
   "source": [
    "\n",
    "print(classification_report(y_test,predictions)) \n"
   ]
  },
  {
   "cell_type": "markdown",
   "metadata": {},
   "source": [
    "### Calculando a AUC para 'Appetency':\n",
    "* aplicando o método k-fold com k=5."
   ]
  },
  {
   "cell_type": "code",
   "execution_count": 31,
   "metadata": {},
   "outputs": [
    {
     "name": "stdout",
     "output_type": "stream",
     "text": [
      "0%\n",
      "20%\n",
      "40%\n",
      "60%\n",
      "80%\n",
      "AUC: 0.67+-0.09\n"
     ]
    }
   ],
   "source": [
    "x = df_X.loc[:]\n",
    "y = df_y.loc[:]\n",
    "\n",
    "cv = StratifiedKFold(n_splits=5,shuffle=True)\n",
    "i =0\n",
    "aucs2 = []\n",
    "for train,test in cv.split(x,y):\n",
    "    print('{}%'.format(i*20))\n",
    "    X_train = x.iloc[train]\n",
    "    X_test = x.iloc[test]\n",
    "    y_train = y.iloc[train]\n",
    "    y_test = y.iloc[test]\n",
    "    \n",
    "    X_train = preprocessing.scale(X_train)\n",
    "    X_test = preprocessing.scale(X_test)\n",
    "    \n",
    "    pred = rf.fit(X_train,y_train).predict(X_test)\n",
    "    aucs2.append(roc_auc_score(y_test, pred))\n",
    "    i=i+1\n",
    "\n",
    "AUC2 = '{}+-{}'.format(round(np.average(aucs2), 2),round(np.std(aucs2),2))\n",
    "print('AUC:', AUC2 )\n"
   ]
  },
  {
   "cell_type": "markdown",
   "metadata": {},
   "source": [
    "### AUC: 0.67+-0.09"
   ]
  },
  {
   "cell_type": "markdown",
   "metadata": {},
   "source": [
    "# ---------------------------------------------------------------------------------------------------------------"
   ]
  },
  {
   "cell_type": "markdown",
   "metadata": {},
   "source": [
    "## 'Churn':\n",
    "\n",
    "### Da mesma forma:\n",
    "* Prepararemos os dados, retirando as variáveis indesejáveis;\n",
    "* Aplicaremos o 'up-sampling' na parte dos dados subrepresentada;\n",
    "* Dividiremos nossos dados em dados de treino e teste\n",
    "* Treinaremos o classificador \"RandomForestClassifier\" com os dados;\n",
    "* Calcularemos o valor da AUC utilizando o método de k-fold com k = 5;\n",
    "* Mostraremos a matriz de confusão do classificador (comum e normalizada);"
   ]
  },
  {
   "cell_type": "code",
   "execution_count": 32,
   "metadata": {},
   "outputs": [],
   "source": [
    "data_final = data_f.drop(['appetency','upselling'],axis=1)\n",
    "df_maj = data_final[data_final.churn==0]\n",
    "df_min = data_final[data_final.churn==1]\n",
    "#\n",
    "# Upsample minority class\n",
    "df_min_upsampled = resample(df_min, \n",
    "                                replace=True,     # sample with replacement\n",
    "                                 n_samples=df_maj.shape[0],    # to match majority class\n",
    "                                 random_state=RANDOM_SEED) # reproducible results\n",
    " \n",
    "# Combine majority class with upsampled minority class\n",
    "df_upsampled = pd.concat([df_maj, df_min_upsampled])\n",
    "df_X = df_upsampled.drop(['churn'],axis=1)\n",
    "df_y = df_upsampled['churn']\n",
    "\n",
    "X_train, X_test, y_train, y_test = train_test_split(df_X, df_y, test_size=0.2, random_state=RANDOM_SEED)\n",
    "X_train = X_train.values\n",
    "X_test = X_test.values\n",
    "y_train = y_train.values\n",
    "y_test = y_test.values\n",
    "\n",
    "\n",
    "X_train = preprocessing.scale(X_train)\n",
    "X_test = preprocessing.scale(X_test)\n",
    "\n",
    "\n",
    "rf = RandomForestClassifier(n_estimators = 500, max_features ='sqrt',random_state = 42,class_weight='balanced')\n",
    "\n",
    "\n",
    "rf.fit(X_train, y_train);\n",
    "\n",
    "\n",
    "predictions = rf.predict(X_test)\n",
    "\n"
   ]
  },
  {
   "cell_type": "markdown",
   "metadata": {},
   "source": [
    "### Visualizando a matriz de confusão para o classificador:"
   ]
  },
  {
   "cell_type": "code",
   "execution_count": 33,
   "metadata": {},
   "outputs": [
    {
     "data": {
      "image/png": "[encoded data removed]",
      "text/plain": [
       "<matplotlib.figure.Figure at 0x20d33d1a9e8>"
      ]
     },
     "metadata": {},
     "output_type": "display_data"
    }
   ],
   "source": [
    "\n",
    "conf_matrix = confusion_matrix(y_test, predictions)\n",
    "plt.figure(figsize=(4, 4))\n",
    "sns.heatmap(conf_matrix,  annot=True,xticklabels=['Neg','pos'], yticklabels=['Neg','Pos'],fmt=\"d\")\n",
    "plt.title(\"Confusion matrix\")\n",
    "plt.ylabel('True class')\n",
    "plt.xlabel('Predicted class')\n",
    "plt.show()"
   ]
  },
  {
   "cell_type": "markdown",
   "metadata": {},
   "source": [
    "### Visualizando a matriz de confusão normalizada para o classificador:"
   ]
  },
  {
   "cell_type": "code",
   "execution_count": 34,
   "metadata": {},
   "outputs": [
    {
     "data": {
      "image/png": "[encoded data removed]",
      "text/plain": [
       "<matplotlib.figure.Figure at 0x20d33e0ab00>"
      ]
     },
     "metadata": {},
     "output_type": "display_data"
    }
   ],
   "source": [
    "lista = y_test\n",
    "y_y =pd.DataFrame({'y':lista})\n",
    "y_test_legit = y_y.y.value_counts()[0]\n",
    "y_test_fraud = y_y.y.value_counts()[1]\n",
    "cfn_matrix = confusion_matrix(y_test,predictions)\n",
    "cfn_norm_matrix = np.array([[1.0 / y_test_legit,1.0/y_test_legit],[1.0/y_test_fraud,1.0/y_test_fraud]])\n",
    "norm_cfn_matrix = cfn_matrix * cfn_norm_matrix\n",
    "\n",
    "plt.figure(figsize=(4, 4))\n",
    "sns.heatmap(norm_cfn_matrix, annot=True,xticklabels=['Neg','pos'], yticklabels=['Neg','Pos'])\n",
    "plt.title('Normalized Confusion Matrix')\n",
    "plt.ylabel('True Classes')\n",
    "plt.xlabel('Predicted Classes')\n",
    "plt.show()"
   ]
  },
  {
   "cell_type": "code",
   "execution_count": 35,
   "metadata": {},
   "outputs": [
    {
     "name": "stdout",
     "output_type": "stream",
     "text": [
      "             precision    recall  f1-score   support\n",
      "\n",
      "        0.0       0.84      1.00      0.91      9293\n",
      "        1.0       1.00      0.81      0.89      9238\n",
      "\n",
      "avg / total       0.92      0.90      0.90     18531\n",
      "\n"
     ]
    }
   ],
   "source": [
    "print(classification_report(y_test,predictions)) "
   ]
  },
  {
   "cell_type": "markdown",
   "metadata": {},
   "source": [
    "### Calculando a AUC para o classificador - 'churn' :\n",
    "* aplicando o método k-fold com k=5."
   ]
  },
  {
   "cell_type": "code",
   "execution_count": 36,
   "metadata": {},
   "outputs": [
    {
     "name": "stdout",
     "output_type": "stream",
     "text": [
      "0%\n",
      "20%\n",
      "40%\n",
      "60%\n",
      "80%\n",
      "AUC: 0.84+-0.07\n"
     ]
    }
   ],
   "source": [
    "x = df_X.loc[:]\n",
    "y = df_y.loc[:]\n",
    "\n",
    "cv = StratifiedKFold(n_splits=5,shuffle=True)\n",
    "i =0\n",
    "aucs3 = []\n",
    "for train,test in cv.split(x,y):\n",
    "    print('{}%'.format(i*20))\n",
    "    X_train = x.iloc[train]\n",
    "    X_test = x.iloc[test]\n",
    "    y_train = y.iloc[train]\n",
    "    y_test = y.iloc[test]\n",
    "    \n",
    "    X_train = preprocessing.scale(X_train)\n",
    "    X_test = preprocessing.scale(X_test)\n",
    "    \n",
    "    pred = rf.fit(X_train,y_train).predict(X_test)\n",
    "    aucs3.append(roc_auc_score(y_test, pred))\n",
    "    i=i+1\n",
    "\n",
    "AUC3 = '{}+-{}'.format(round(np.average(aucs3), 2),round(np.std(aucs3),2))\n",
    "print('AUC:', AUC3 )"
   ]
  },
  {
   "cell_type": "markdown",
   "metadata": {},
   "source": [
    "### AUC: 0.84+-0.07"
   ]
  },
  {
   "cell_type": "markdown",
   "metadata": {},
   "source": [
    "# ------------------------------------------------------------------------------------------------------------"
   ]
  },
  {
   "cell_type": "markdown",
   "metadata": {},
   "source": [
    "# RESULTADO FINAL:\n",
    "\n",
    "Após as etapas de pré-processamento e treinamento obtivemos o valor AUC para o classificador para as três variáveis alvo,  'upselling', 'appetency' e 'churn'. "
   ]
  },
  {
   "cell_type": "code",
   "execution_count": 38,
   "metadata": {},
   "outputs": [
    {
     "data": {
      "text/plain": [
       "('0.8+-0.05', '0.67+-0.09', '0.84+-0.07')"
      ]
     },
     "execution_count": 38,
     "metadata": {},
     "output_type": "execute_result"
    }
   ],
   "source": [
    "AUC1,AUC2,AUC3"
   ]
  },
  {
   "cell_type": "markdown",
   "metadata": {},
   "source": [
    "Por fim, obtivemos os seguintes resultados:\n",
    "* ## ``AUC para 'upselling' : 0.80 ``$\\pm $``0.05 ``\n",
    "\n",
    "* ## ``AUC para 'appetency' : 0.69``$\\pm$ ``0.09``\n",
    "\n",
    "* ## ``AUC para 'churn' : 0.84``$\\pm$ ``0.07``\n",
    "\n",
    "Portanto temos:\n",
    "\n",
    "## ``AUC_médio = 0.77``$\\pm$ ``0.04``"
   ]
  },
  {
   "cell_type": "markdown",
   "metadata": {},
   "source": [
    "# REFERÊNCIAS:\n",
    "* https://www.kdd.org/kdd-cup/view/kdd-cup-2009/Intro\n",
    "* https://scikit-learn.org/stable/supervised_learning.html#supervised-learning\n",
    "* http://pandas.pydata.org/pandas-docs/stable/"
   ]
  }
 ],
 "metadata": {
  "kernelspec": {
   "display_name": "Python 3",
   "language": "python",
   "name": "python3"
  },
  "language_info": {
   "codemirror_mode": {
    "name": "ipython",
    "version": 3
   },
   "file_extension": ".py",
   "mimetype": "text/x-python",
   "name": "python",
   "nbconvert_exporter": "python",
   "pygments_lexer": "ipython3",
   "version": "3.6.1"
  }
 },
 "nbformat": 4,
 "nbformat_minor": 2
}
